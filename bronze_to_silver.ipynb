{
 "cells": [
  {
   "cell_type": "code",
   "execution_count": 0,
   "metadata": {
    "application/vnd.databricks.v1+cell": {
     "cellMetadata": {
      "byteLimit": 2048000,
      "rowLimit": 10000
     },
     "inputWidgets": {},
     "nuid": "e6170af1-5d98-45d8-a253-edcf6445adcf",
     "showTitle": false,
     "tableResultSettingsMap": {},
     "title": ""
    }
   },
   "outputs": [],
   "source": [
    "from pyspark.sql.functions import *\n",
    "from pyspark.sql.types import *"
   ]
  },
  {
   "cell_type": "code",
   "execution_count": 0,
   "metadata": {
    "application/vnd.databricks.v1+cell": {
     "cellMetadata": {
      "byteLimit": 2048000,
      "rowLimit": 10000
     },
     "inputWidgets": {},
     "nuid": "c74fac04-1553-463b-8615-af677f811d33",
     "showTitle": false,
     "tableResultSettingsMap": {},
     "title": ""
    }
   },
   "outputs": [],
   "source": [
    "df=spark.read.format(\"parquet\").option(\"inferSchema\", True).load(\"/mnt/bronze/\")"
   ]
  },
  {
   "cell_type": "code",
   "execution_count": 0,
   "metadata": {
    "application/vnd.databricks.v1+cell": {
     "cellMetadata": {
      "byteLimit": 2048000,
      "rowLimit": 10000
     },
     "inputWidgets": {},
     "nuid": "43432fe2-e432-4c7f-85cd-1fce7cd3a7cf",
     "showTitle": false,
     "tableResultSettingsMap": {},
     "title": ""
    }
   },
   "outputs": [
    {
     "output_type": "display_data",
     "data": {
      "text/html": [
       "<style scoped>\n",
       "  .table-result-container {\n",
       "    max-height: 300px;\n",
       "    overflow: auto;\n",
       "  }\n",
       "  table, th, td {\n",
       "    border: 1px solid black;\n",
       "    border-collapse: collapse;\n",
       "  }\n",
       "  th, td {\n",
       "    padding: 5px;\n",
       "  }\n",
       "  th {\n",
       "    text-align: left;\n",
       "  }\n",
       "</style><div class='table-result-container'><table class='table-result'><thead style='background-color: white'><tr><th>Branch_ID</th><th>Dealer_ID</th><th>Model_ID</th><th>Revenue</th><th>Units_Sold</th><th>Date_ID</th><th>Day</th><th>Month</th><th>Year</th><th>BranchName</th><th>DealerName</th><th>Product_Name</th></tr></thead><tbody><tr><td>BR9546</td><td>DLR0060</td><td>Jee-M10</td><td>7223451</td><td>1</td><td>DT01246</td><td>28</td><td>5</td><td>2020</td><td>Premier Motors</td><td>Fisker, Karma Motors</td><td>Jeep</td></tr><tr><td>BR9666</td><td>DLR0062</td><td>Jee-M12</td><td>22093020</td><td>3</td><td>DT01246</td><td>30</td><td>5</td><td>2020</td><td>Puma Motors</td><td>Ford Australia Motors</td><td>Jeep</td></tr><tr><td>BR9726</td><td>DLR0063</td><td>Jee-M13</td><td>22372413</td><td>3</td><td>DT01247</td><td>31</td><td>5</td><td>2020</td><td>Power Ranger Motors</td><td>Ford do Brasil Motors</td><td>Jeep</td></tr><tr><td>XYZ9726</td><td>XYZ0063</td><td>ZYXM13</td><td>22372413</td><td>3</td><td>DT01247</td><td>31</td><td>5</td><td>2020</td><td>DataFam Motors</td><td>Datafam Dealers</td><td>Surprise</td></tr></tbody></table></div>"
      ]
     },
     "metadata": {
      "application/vnd.databricks.v1+output": {
       "addedWidgets": {},
       "aggData": [],
       "aggError": "",
       "aggOverflow": false,
       "aggSchema": [],
       "aggSeriesLimitReached": false,
       "aggType": "",
       "arguments": {},
       "columnCustomDisplayInfos": {},
       "data": [
        [
         "BR9546",
         "DLR0060",
         "Jee-M10",
         7223451,
         1,
         "DT01246",
         28,
         5,
         2020,
         "Premier Motors",
         "Fisker, Karma Motors",
         "Jeep"
        ],
        [
         "BR9666",
         "DLR0062",
         "Jee-M12",
         22093020,
         3,
         "DT01246",
         30,
         5,
         2020,
         "Puma Motors",
         "Ford Australia Motors",
         "Jeep"
        ],
        [
         "BR9726",
         "DLR0063",
         "Jee-M13",
         22372413,
         3,
         "DT01247",
         31,
         5,
         2020,
         "Power Ranger Motors",
         "Ford do Brasil Motors",
         "Jeep"
        ],
        [
         "XYZ9726",
         "XYZ0063",
         "ZYXM13",
         22372413,
         3,
         "DT01247",
         31,
         5,
         2020,
         "DataFam Motors",
         "Datafam Dealers",
         "Surprise"
        ]
       ],
       "datasetInfos": [],
       "dbfsResultPath": null,
       "isJsonSchema": true,
       "metadata": {},
       "overflow": false,
       "plotOptions": {
        "customPlotOptions": {},
        "displayType": "table",
        "pivotAggregation": null,
        "pivotColumns": null,
        "xColumns": null,
        "yColumns": null
       },
       "removedWidgets": [],
       "schema": [
        {
         "metadata": "{}",
         "name": "Branch_ID",
         "type": "\"string\""
        },
        {
         "metadata": "{}",
         "name": "Dealer_ID",
         "type": "\"string\""
        },
        {
         "metadata": "{}",
         "name": "Model_ID",
         "type": "\"string\""
        },
        {
         "metadata": "{}",
         "name": "Revenue",
         "type": "\"long\""
        },
        {
         "metadata": "{}",
         "name": "Units_Sold",
         "type": "\"integer\""
        },
        {
         "metadata": "{}",
         "name": "Date_ID",
         "type": "\"string\""
        },
        {
         "metadata": "{}",
         "name": "Day",
         "type": "\"integer\""
        },
        {
         "metadata": "{}",
         "name": "Month",
         "type": "\"integer\""
        },
        {
         "metadata": "{}",
         "name": "Year",
         "type": "\"integer\""
        },
        {
         "metadata": "{}",
         "name": "BranchName",
         "type": "\"string\""
        },
        {
         "metadata": "{}",
         "name": "DealerName",
         "type": "\"string\""
        },
        {
         "metadata": "{}",
         "name": "Product_Name",
         "type": "\"string\""
        }
       ],
       "type": "table"
      }
     },
     "output_type": "display_data"
    }
   ],
   "source": [
    "df.display()"
   ]
  },
  {
   "cell_type": "code",
   "execution_count": 0,
   "metadata": {
    "application/vnd.databricks.v1+cell": {
     "cellMetadata": {
      "byteLimit": 2048000,
      "rowLimit": 10000
     },
     "inputWidgets": {},
     "nuid": "12c76a50-647b-43b5-8e49-3fab9ce7ae25",
     "showTitle": false,
     "tableResultSettingsMap": {},
     "title": ""
    }
   },
   "outputs": [
    {
     "output_type": "display_data",
     "data": {
      "text/html": [
       "<style scoped>\n",
       "  .table-result-container {\n",
       "    max-height: 300px;\n",
       "    overflow: auto;\n",
       "  }\n",
       "  table, th, td {\n",
       "    border: 1px solid black;\n",
       "    border-collapse: collapse;\n",
       "  }\n",
       "  th, td {\n",
       "    padding: 5px;\n",
       "  }\n",
       "  th {\n",
       "    text-align: left;\n",
       "  }\n",
       "</style><div class='table-result-container'><table class='table-result'><thead style='background-color: white'><tr><th>Branch_ID</th><th>Dealer_ID</th><th>Model_ID</th><th>Revenue</th><th>Units_Sold</th><th>Date_ID</th><th>Day</th><th>Month</th><th>Year</th><th>BranchName</th><th>DealerName</th><th>Product_Name</th><th>model_category</th></tr></thead><tbody><tr><td>BR9546</td><td>DLR0060</td><td>Jee-M10</td><td>7223451</td><td>1</td><td>DT01246</td><td>28</td><td>5</td><td>2020</td><td>Premier Motors</td><td>Fisker, Karma Motors</td><td>Jeep</td><td>Jee</td></tr><tr><td>BR9666</td><td>DLR0062</td><td>Jee-M12</td><td>22093020</td><td>3</td><td>DT01246</td><td>30</td><td>5</td><td>2020</td><td>Puma Motors</td><td>Ford Australia Motors</td><td>Jeep</td><td>Jee</td></tr><tr><td>BR9726</td><td>DLR0063</td><td>Jee-M13</td><td>22372413</td><td>3</td><td>DT01247</td><td>31</td><td>5</td><td>2020</td><td>Power Ranger Motors</td><td>Ford do Brasil Motors</td><td>Jeep</td><td>Jee</td></tr><tr><td>XYZ9726</td><td>XYZ0063</td><td>ZYXM13</td><td>22372413</td><td>3</td><td>DT01247</td><td>31</td><td>5</td><td>2020</td><td>DataFam Motors</td><td>Datafam Dealers</td><td>Surprise</td><td>ZYXM13</td></tr></tbody></table></div>"
      ]
     },
     "metadata": {
      "application/vnd.databricks.v1+output": {
       "addedWidgets": {},
       "aggData": [],
       "aggError": "",
       "aggOverflow": false,
       "aggSchema": [],
       "aggSeriesLimitReached": false,
       "aggType": "",
       "arguments": {},
       "columnCustomDisplayInfos": {},
       "data": [
        [
         "BR9546",
         "DLR0060",
         "Jee-M10",
         7223451,
         1,
         "DT01246",
         28,
         5,
         2020,
         "Premier Motors",
         "Fisker, Karma Motors",
         "Jeep",
         "Jee"
        ],
        [
         "BR9666",
         "DLR0062",
         "Jee-M12",
         22093020,
         3,
         "DT01246",
         30,
         5,
         2020,
         "Puma Motors",
         "Ford Australia Motors",
         "Jeep",
         "Jee"
        ],
        [
         "BR9726",
         "DLR0063",
         "Jee-M13",
         22372413,
         3,
         "DT01247",
         31,
         5,
         2020,
         "Power Ranger Motors",
         "Ford do Brasil Motors",
         "Jeep",
         "Jee"
        ],
        [
         "XYZ9726",
         "XYZ0063",
         "ZYXM13",
         22372413,
         3,
         "DT01247",
         31,
         5,
         2020,
         "DataFam Motors",
         "Datafam Dealers",
         "Surprise",
         "ZYXM13"
        ]
       ],
       "datasetInfos": [],
       "dbfsResultPath": null,
       "isJsonSchema": true,
       "metadata": {},
       "overflow": false,
       "plotOptions": {
        "customPlotOptions": {},
        "displayType": "table",
        "pivotAggregation": null,
        "pivotColumns": null,
        "xColumns": null,
        "yColumns": null
       },
       "removedWidgets": [],
       "schema": [
        {
         "metadata": "{}",
         "name": "Branch_ID",
         "type": "\"string\""
        },
        {
         "metadata": "{}",
         "name": "Dealer_ID",
         "type": "\"string\""
        },
        {
         "metadata": "{}",
         "name": "Model_ID",
         "type": "\"string\""
        },
        {
         "metadata": "{}",
         "name": "Revenue",
         "type": "\"long\""
        },
        {
         "metadata": "{}",
         "name": "Units_Sold",
         "type": "\"integer\""
        },
        {
         "metadata": "{}",
         "name": "Date_ID",
         "type": "\"string\""
        },
        {
         "metadata": "{}",
         "name": "Day",
         "type": "\"integer\""
        },
        {
         "metadata": "{}",
         "name": "Month",
         "type": "\"integer\""
        },
        {
         "metadata": "{}",
         "name": "Year",
         "type": "\"integer\""
        },
        {
         "metadata": "{}",
         "name": "BranchName",
         "type": "\"string\""
        },
        {
         "metadata": "{}",
         "name": "DealerName",
         "type": "\"string\""
        },
        {
         "metadata": "{}",
         "name": "Product_Name",
         "type": "\"string\""
        },
        {
         "metadata": "{}",
         "name": "model_category",
         "type": "\"string\""
        }
       ],
       "type": "table"
      }
     },
     "output_type": "display_data"
    }
   ],
   "source": [
    "%python\n",
    "from pyspark.sql.functions import split, col\n",
    "\n",
    "\n",
    "df=df.withColumn(\"model_category\", split(col(\"Model_ID\"), '-')[0])\n",
    "df.display()"
   ]
  },
  {
   "cell_type": "code",
   "execution_count": 0,
   "metadata": {
    "application/vnd.databricks.v1+cell": {
     "cellMetadata": {
      "byteLimit": 2048000,
      "rowLimit": 10000
     },
     "inputWidgets": {},
     "nuid": "b6e004cc-d112-487f-abe1-403106e13b41",
     "showTitle": false,
     "tableResultSettingsMap": {},
     "title": ""
    }
   },
   "outputs": [
    {
     "output_type": "display_data",
     "data": {
      "text/html": [
       "<style scoped>\n",
       "  .table-result-container {\n",
       "    max-height: 300px;\n",
       "    overflow: auto;\n",
       "  }\n",
       "  table, th, td {\n",
       "    border: 1px solid black;\n",
       "    border-collapse: collapse;\n",
       "  }\n",
       "  th, td {\n",
       "    padding: 5px;\n",
       "  }\n",
       "  th {\n",
       "    text-align: left;\n",
       "  }\n",
       "</style><div class='table-result-container'><table class='table-result'><thead style='background-color: white'><tr><th>Branch_ID</th><th>Dealer_ID</th><th>Model_ID</th><th>Revenue</th><th>Units_Sold</th><th>Date_ID</th><th>Day</th><th>Month</th><th>Year</th><th>BranchName</th><th>DealerName</th><th>Product_Name</th><th>model_category</th><th>RevenurperUnit</th></tr></thead><tbody><tr><td>BR9546</td><td>DLR0060</td><td>Jee-M10</td><td>7223451</td><td>1</td><td>DT01246</td><td>28</td><td>5</td><td>2020</td><td>Premier Motors</td><td>Fisker, Karma Motors</td><td>Jeep</td><td>Jee</td><td>7223451.0</td></tr><tr><td>BR9666</td><td>DLR0062</td><td>Jee-M12</td><td>22093020</td><td>3</td><td>DT01246</td><td>30</td><td>5</td><td>2020</td><td>Puma Motors</td><td>Ford Australia Motors</td><td>Jeep</td><td>Jee</td><td>7364340.0</td></tr><tr><td>BR9726</td><td>DLR0063</td><td>Jee-M13</td><td>22372413</td><td>3</td><td>DT01247</td><td>31</td><td>5</td><td>2020</td><td>Power Ranger Motors</td><td>Ford do Brasil Motors</td><td>Jeep</td><td>Jee</td><td>7457471.0</td></tr><tr><td>XYZ9726</td><td>XYZ0063</td><td>ZYXM13</td><td>22372413</td><td>3</td><td>DT01247</td><td>31</td><td>5</td><td>2020</td><td>DataFam Motors</td><td>Datafam Dealers</td><td>Surprise</td><td>ZYXM13</td><td>7457471.0</td></tr></tbody></table></div>"
      ]
     },
     "metadata": {
      "application/vnd.databricks.v1+output": {
       "addedWidgets": {},
       "aggData": [],
       "aggError": "",
       "aggOverflow": false,
       "aggSchema": [],
       "aggSeriesLimitReached": false,
       "aggType": "",
       "arguments": {},
       "columnCustomDisplayInfos": {},
       "data": [
        [
         "BR9546",
         "DLR0060",
         "Jee-M10",
         7223451,
         1,
         "DT01246",
         28,
         5,
         2020,
         "Premier Motors",
         "Fisker, Karma Motors",
         "Jeep",
         "Jee",
         7223451.0
        ],
        [
         "BR9666",
         "DLR0062",
         "Jee-M12",
         22093020,
         3,
         "DT01246",
         30,
         5,
         2020,
         "Puma Motors",
         "Ford Australia Motors",
         "Jeep",
         "Jee",
         7364340.0
        ],
        [
         "BR9726",
         "DLR0063",
         "Jee-M13",
         22372413,
         3,
         "DT01247",
         31,
         5,
         2020,
         "Power Ranger Motors",
         "Ford do Brasil Motors",
         "Jeep",
         "Jee",
         7457471.0
        ],
        [
         "XYZ9726",
         "XYZ0063",
         "ZYXM13",
         22372413,
         3,
         "DT01247",
         31,
         5,
         2020,
         "DataFam Motors",
         "Datafam Dealers",
         "Surprise",
         "ZYXM13",
         7457471.0
        ]
       ],
       "datasetInfos": [],
       "dbfsResultPath": null,
       "isJsonSchema": true,
       "metadata": {},
       "overflow": false,
       "plotOptions": {
        "customPlotOptions": {},
        "displayType": "table",
        "pivotAggregation": null,
        "pivotColumns": null,
        "xColumns": null,
        "yColumns": null
       },
       "removedWidgets": [],
       "schema": [
        {
         "metadata": "{}",
         "name": "Branch_ID",
         "type": "\"string\""
        },
        {
         "metadata": "{}",
         "name": "Dealer_ID",
         "type": "\"string\""
        },
        {
         "metadata": "{}",
         "name": "Model_ID",
         "type": "\"string\""
        },
        {
         "metadata": "{}",
         "name": "Revenue",
         "type": "\"long\""
        },
        {
         "metadata": "{}",
         "name": "Units_Sold",
         "type": "\"integer\""
        },
        {
         "metadata": "{}",
         "name": "Date_ID",
         "type": "\"string\""
        },
        {
         "metadata": "{}",
         "name": "Day",
         "type": "\"integer\""
        },
        {
         "metadata": "{}",
         "name": "Month",
         "type": "\"integer\""
        },
        {
         "metadata": "{}",
         "name": "Year",
         "type": "\"integer\""
        },
        {
         "metadata": "{}",
         "name": "BranchName",
         "type": "\"string\""
        },
        {
         "metadata": "{}",
         "name": "DealerName",
         "type": "\"string\""
        },
        {
         "metadata": "{}",
         "name": "Product_Name",
         "type": "\"string\""
        },
        {
         "metadata": "{}",
         "name": "model_category",
         "type": "\"string\""
        },
        {
         "metadata": "{}",
         "name": "RevenurperUnit",
         "type": "\"double\""
        }
       ],
       "type": "table"
      }
     },
     "output_type": "display_data"
    }
   ],
   "source": [
    "df=df.withColumn(\"RevenurperUnit\", col(\"Revenue\")/col(\"Units_Sold\"))\n",
    "df.display()"
   ]
  },
  {
   "cell_type": "markdown",
   "metadata": {
    "application/vnd.databricks.v1+cell": {
     "cellMetadata": {
      "byteLimit": 2048000,
      "rowLimit": 10000
     },
     "inputWidgets": {},
     "nuid": "7ed3a7fb-aef6-4e98-9cb3-d46f4b49d5d6",
     "showTitle": false,
     "tableResultSettingsMap": {},
     "title": ""
    }
   },
   "source": [
    "how many units of each branch were sold in each year\n"
   ]
  },
  {
   "cell_type": "code",
   "execution_count": 0,
   "metadata": {
    "application/vnd.databricks.v1+cell": {
     "cellMetadata": {
      "byteLimit": 2048000,
      "rowLimit": 10000
     },
     "inputWidgets": {},
     "nuid": "b72d7797-10aa-4dfd-80a8-38acffa633d8",
     "showTitle": false,
     "tableResultSettingsMap": {},
     "title": ""
    }
   },
   "outputs": [
    {
     "output_type": "display_data",
     "data": {
      "text/html": [
       "<style scoped>\n",
       "  .table-result-container {\n",
       "    max-height: 300px;\n",
       "    overflow: auto;\n",
       "  }\n",
       "  table, th, td {\n",
       "    border: 1px solid black;\n",
       "    border-collapse: collapse;\n",
       "  }\n",
       "  th, td {\n",
       "    padding: 5px;\n",
       "  }\n",
       "  th {\n",
       "    text-align: left;\n",
       "  }\n",
       "</style><div class='table-result-container'><table class='table-result'><thead style='background-color: white'><tr><th>Year</th><th>BranchName</th><th>Total_Units_Sold</th></tr></thead><tbody><tr><td>2020</td><td>DataFam Motors</td><td>3</td></tr><tr><td>2020</td><td>Puma Motors</td><td>3</td></tr><tr><td>2020</td><td>Power Ranger Motors</td><td>3</td></tr><tr><td>2020</td><td>Premier Motors</td><td>1</td></tr></tbody></table></div>"
      ]
     },
     "metadata": {
      "application/vnd.databricks.v1+output": {
       "addedWidgets": {},
       "aggData": [],
       "aggError": "",
       "aggOverflow": false,
       "aggSchema": [],
       "aggSeriesLimitReached": false,
       "aggType": "",
       "arguments": {},
       "columnCustomDisplayInfos": {},
       "data": [
        [
         2020,
         "DataFam Motors",
         3
        ],
        [
         2020,
         "Puma Motors",
         3
        ],
        [
         2020,
         "Power Ranger Motors",
         3
        ],
        [
         2020,
         "Premier Motors",
         1
        ]
       ],
       "datasetInfos": [],
       "dbfsResultPath": null,
       "isJsonSchema": true,
       "metadata": {},
       "overflow": false,
       "plotOptions": {
        "customPlotOptions": {},
        "displayType": "table",
        "pivotAggregation": null,
        "pivotColumns": null,
        "xColumns": null,
        "yColumns": null
       },
       "removedWidgets": [],
       "schema": [
        {
         "metadata": "{}",
         "name": "Year",
         "type": "\"integer\""
        },
        {
         "metadata": "{}",
         "name": "BranchName",
         "type": "\"string\""
        },
        {
         "metadata": "{}",
         "name": "Total_Units_Sold",
         "type": "\"long\""
        }
       ],
       "type": "table"
      }
     },
     "output_type": "display_data"
    }
   ],
   "source": [
    "df.groupby(\"Year\",\"BranchName\").agg(sum(\"Units_sold\").alias(\"Total_Units_Sold\")).orderBy(\"Year\", desc(\"Total_Units_Sold\")).display()"
   ]
  },
  {
   "cell_type": "code",
   "execution_count": 0,
   "metadata": {
    "application/vnd.databricks.v1+cell": {
     "cellMetadata": {
      "byteLimit": 2048000,
      "rowLimit": 10000
     },
     "inputWidgets": {},
     "nuid": "7393e4f6-e3a3-4657-ab05-92152c3c472d",
     "showTitle": false,
     "tableResultSettingsMap": {},
     "title": ""
    }
   },
   "outputs": [],
   "source": [
    "df.write.format('parquet')\\\n",
    "    .mode('append')\\\n",
    "        .save('/mnt/silver')"
   ]
  },
  {
   "cell_type": "code",
   "execution_count": 0,
   "metadata": {
    "application/vnd.databricks.v1+cell": {
     "cellMetadata": {
      "byteLimit": 2048000,
      "implicitDf": true,
      "rowLimit": 10000
     },
     "inputWidgets": {},
     "nuid": "727aba1e-b69b-4a09-89ba-44d0d15254bb",
     "showTitle": false,
     "tableResultSettingsMap": {},
     "title": ""
    }
   },
   "outputs": [
    {
     "output_type": "display_data",
     "data": {
      "text/html": [
       "<style scoped>\n",
       "  .table-result-container {\n",
       "    max-height: 300px;\n",
       "    overflow: auto;\n",
       "  }\n",
       "  table, th, td {\n",
       "    border: 1px solid black;\n",
       "    border-collapse: collapse;\n",
       "  }\n",
       "  th, td {\n",
       "    padding: 5px;\n",
       "  }\n",
       "  th {\n",
       "    text-align: left;\n",
       "  }\n",
       "</style><div class='table-result-container'><table class='table-result'><thead style='background-color: white'><tr><th>Branch_ID</th><th>Dealer_ID</th><th>Model_ID</th><th>Revenue</th><th>Units_Sold</th><th>Date_ID</th><th>Day</th><th>Month</th><th>Year</th><th>BranchName</th><th>DealerName</th><th>Product_Name</th><th>model_category</th><th>RevenurperUnit</th></tr></thead><tbody><tr><td>BR9546</td><td>DLR0060</td><td>Jee-M10</td><td>7223451</td><td>1</td><td>DT01246</td><td>28</td><td>5</td><td>2020</td><td>Premier Motors</td><td>Fisker, Karma Motors</td><td>Jeep</td><td>Jee</td><td>7223451.0</td></tr><tr><td>BR9666</td><td>DLR0062</td><td>Jee-M12</td><td>22093020</td><td>3</td><td>DT01246</td><td>30</td><td>5</td><td>2020</td><td>Puma Motors</td><td>Ford Australia Motors</td><td>Jeep</td><td>Jee</td><td>7364340.0</td></tr><tr><td>BR9726</td><td>DLR0063</td><td>Jee-M13</td><td>22372413</td><td>3</td><td>DT01247</td><td>31</td><td>5</td><td>2020</td><td>Power Ranger Motors</td><td>Ford do Brasil Motors</td><td>Jeep</td><td>Jee</td><td>7457471.0</td></tr><tr><td>XYZ9726</td><td>XYZ0063</td><td>ZYXM13</td><td>22372413</td><td>3</td><td>DT01247</td><td>31</td><td>5</td><td>2020</td><td>DataFam Motors</td><td>Datafam Dealers</td><td>Surprise</td><td>ZYXM13</td><td>7457471.0</td></tr><tr><td>BR9546</td><td>DLR0060</td><td>Jee-M10</td><td>7223451</td><td>1</td><td>DT01246</td><td>28</td><td>5</td><td>2020</td><td>Premier Motors</td><td>Fisker, Karma Motors</td><td>Jeep</td><td>Jee</td><td>7223451.0</td></tr><tr><td>BR9666</td><td>DLR0062</td><td>Jee-M12</td><td>22093020</td><td>3</td><td>DT01246</td><td>30</td><td>5</td><td>2020</td><td>Puma Motors</td><td>Ford Australia Motors</td><td>Jeep</td><td>Jee</td><td>7364340.0</td></tr><tr><td>BR9726</td><td>DLR0063</td><td>Jee-M13</td><td>22372413</td><td>3</td><td>DT01247</td><td>31</td><td>5</td><td>2020</td><td>Power Ranger Motors</td><td>Ford do Brasil Motors</td><td>Jeep</td><td>Jee</td><td>7457471.0</td></tr><tr><td>XYZ9726</td><td>XYZ0063</td><td>ZYXM13</td><td>22372413</td><td>3</td><td>DT01247</td><td>31</td><td>5</td><td>2020</td><td>DataFam Motors</td><td>Datafam Dealers</td><td>Surprise</td><td>ZYXM13</td><td>7457471.0</td></tr></tbody></table></div>"
      ]
     },
     "metadata": {
      "application/vnd.databricks.v1+output": {
       "addedWidgets": {},
       "aggData": [],
       "aggError": "",
       "aggOverflow": false,
       "aggSchema": [],
       "aggSeriesLimitReached": false,
       "aggType": "",
       "arguments": {},
       "columnCustomDisplayInfos": {},
       "data": [
        [
         "BR9546",
         "DLR0060",
         "Jee-M10",
         7223451,
         1,
         "DT01246",
         28,
         5,
         2020,
         "Premier Motors",
         "Fisker, Karma Motors",
         "Jeep",
         "Jee",
         7223451.0
        ],
        [
         "BR9666",
         "DLR0062",
         "Jee-M12",
         22093020,
         3,
         "DT01246",
         30,
         5,
         2020,
         "Puma Motors",
         "Ford Australia Motors",
         "Jeep",
         "Jee",
         7364340.0
        ],
        [
         "BR9726",
         "DLR0063",
         "Jee-M13",
         22372413,
         3,
         "DT01247",
         31,
         5,
         2020,
         "Power Ranger Motors",
         "Ford do Brasil Motors",
         "Jeep",
         "Jee",
         7457471.0
        ],
        [
         "XYZ9726",
         "XYZ0063",
         "ZYXM13",
         22372413,
         3,
         "DT01247",
         31,
         5,
         2020,
         "DataFam Motors",
         "Datafam Dealers",
         "Surprise",
         "ZYXM13",
         7457471.0
        ],
        [
         "BR9546",
         "DLR0060",
         "Jee-M10",
         7223451,
         1,
         "DT01246",
         28,
         5,
         2020,
         "Premier Motors",
         "Fisker, Karma Motors",
         "Jeep",
         "Jee",
         7223451.0
        ],
        [
         "BR9666",
         "DLR0062",
         "Jee-M12",
         22093020,
         3,
         "DT01246",
         30,
         5,
         2020,
         "Puma Motors",
         "Ford Australia Motors",
         "Jeep",
         "Jee",
         7364340.0
        ],
        [
         "BR9726",
         "DLR0063",
         "Jee-M13",
         22372413,
         3,
         "DT01247",
         31,
         5,
         2020,
         "Power Ranger Motors",
         "Ford do Brasil Motors",
         "Jeep",
         "Jee",
         7457471.0
        ],
        [
         "XYZ9726",
         "XYZ0063",
         "ZYXM13",
         22372413,
         3,
         "DT01247",
         31,
         5,
         2020,
         "DataFam Motors",
         "Datafam Dealers",
         "Surprise",
         "ZYXM13",
         7457471.0
        ]
       ],
       "datasetInfos": [],
       "dbfsResultPath": null,
       "isJsonSchema": true,
       "metadata": {
        "createTempViewForImplicitDf": true,
        "dataframeName": "_sqldf",
        "executionCount": 8
       },
       "overflow": false,
       "plotOptions": {
        "customPlotOptions": {},
        "displayType": "table",
        "pivotAggregation": null,
        "pivotColumns": null,
        "xColumns": null,
        "yColumns": null
       },
       "removedWidgets": [],
       "schema": [
        {
         "metadata": "{}",
         "name": "Branch_ID",
         "type": "\"string\""
        },
        {
         "metadata": "{}",
         "name": "Dealer_ID",
         "type": "\"string\""
        },
        {
         "metadata": "{}",
         "name": "Model_ID",
         "type": "\"string\""
        },
        {
         "metadata": "{}",
         "name": "Revenue",
         "type": "\"long\""
        },
        {
         "metadata": "{}",
         "name": "Units_Sold",
         "type": "\"integer\""
        },
        {
         "metadata": "{}",
         "name": "Date_ID",
         "type": "\"string\""
        },
        {
         "metadata": "{}",
         "name": "Day",
         "type": "\"integer\""
        },
        {
         "metadata": "{}",
         "name": "Month",
         "type": "\"integer\""
        },
        {
         "metadata": "{}",
         "name": "Year",
         "type": "\"integer\""
        },
        {
         "metadata": "{}",
         "name": "BranchName",
         "type": "\"string\""
        },
        {
         "metadata": "{}",
         "name": "DealerName",
         "type": "\"string\""
        },
        {
         "metadata": "{}",
         "name": "Product_Name",
         "type": "\"string\""
        },
        {
         "metadata": "{}",
         "name": "model_category",
         "type": "\"string\""
        },
        {
         "metadata": "{}",
         "name": "RevenurperUnit",
         "type": "\"double\""
        }
       ],
       "type": "table"
      }
     },
     "output_type": "display_data"
    }
   ],
   "source": [
    "%sql\n",
    "Select * from parquet.`/mnt/silver`"
   ]
  },
  {
   "cell_type": "code",
   "execution_count": 0,
   "metadata": {
    "application/vnd.databricks.v1+cell": {
     "cellMetadata": {
      "byteLimit": 2048000,
      "rowLimit": 10000
     },
     "inputWidgets": {},
     "nuid": "ca21b6a1-df1b-485f-98e4-92b4a40d6853",
     "showTitle": false,
     "tableResultSettingsMap": {},
     "title": ""
    }
   },
   "outputs": [],
   "source": []
  }
 ],
 "metadata": {
  "application/vnd.databricks.v1+notebook": {
   "computePreferences": null,
   "dashboards": [],
   "environmentMetadata": {
    "base_environment": "",
    "environment_version": "2"
   },
   "language": "python",
   "notebookMetadata": {
    "mostRecentlyExecutedCommandWithImplicitDF": {
     "commandId": 1492046245862124,
     "dataframes": [
      "_sqldf"
     ]
    },
    "pythonIndentUnit": 4
   },
   "notebookName": "bronze_to_silver",
   "widgets": {}
  },
  "language_info": {
   "name": "python"
  }
 },
 "nbformat": 4,
 "nbformat_minor": 0
}